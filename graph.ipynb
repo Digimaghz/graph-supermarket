{
 "cells": [
  {
   "cell_type": "code",
   "execution_count": null,
   "id": "d92ff9cc-fe7f-4972-a7aa-4c7648d6d541",
   "metadata": {},
   "outputs": [],
   "source": [
    "import sqlite3\n",
    "import tkinter as tk\n",
    "from tkinter import messagebox"
   ]
  },
  {
   "cell_type": "code",
   "execution_count": null,
   "id": "7c101716-f9d9-4a86-b112-28780fbe4dfe",
   "metadata": {},
   "outputs": [],
   "source": [
    "#graphic\n",
    "win= tk.Tk()\n",
    "win.title(\"modiriat supermarket\")\n",
    "tk.Label(win,text=\"name kala\").grid(row=0,column=0)\n",
    "tk.Label(win,text=\"price frosh\").grid(row=1,column=0)\n",
    "tk.Label(win,text=\"price kharid\").grid(row=0,column=2)\n",
    "tk.Label(win,text=\"number\").grid(row=1,column=2)\n",
    "entry_name=tk.Entry(win)\n",
    "entry_name.grid(row=0,column=1)\n",
    "entry_pricefrosh=tk.Entry(win)\n",
    "entry_pricefrosh.grid(row=1,column=1)\n",
    "entry_pricekharid=tk.Entry(win)\n",
    "entry_pricekharid.grid(row=0,column=3)\n",
    "entry_number=tk.Entry(win)\n",
    "entry_number.grid(row=1,column=3)\n",
    "#button\n",
    "tk.Button(win,text=\"   add    \").grid(row=3,column=0)\n",
    "tk.Button(win,text=\"search\").grid(row=4,column=0)\n",
    "tk.Button(win,text=\"delete\").grid(row=5,column=0)\n",
    "tk.Button(win,text=\"edite\").grid(row=6,column=0)\n",
    "tk.Button(win,text=\"close\").grid(row=7,column=0)\n",
    "tk.Button(win,text=\"show product\").grid(row=8,column=0)\n",
    "listbox = tk.Listbox(win, width=60)\n",
    "listbox.grid(row=3, column=1, columnspan=3, rowspan=6, padx=2 ,pady=2)\n",
    "#listbox=tk.Listbox(win,width=50)\n",
    "#listbox.grid(row=5,column=0,columnspan=2)\n",
    "win.mainloop()"
   ]
  }
 ],
 "metadata": {
  "kernelspec": {
   "display_name": "Python 3 (ipykernel)",
   "language": "python",
   "name": "python3"
  },
  "language_info": {
   "codemirror_mode": {
    "name": "ipython",
    "version": 3
   },
   "file_extension": ".py",
   "mimetype": "text/x-python",
   "name": "python",
   "nbconvert_exporter": "python",
   "pygments_lexer": "ipython3",
   "version": "3.10.6"
  }
 },
 "nbformat": 4,
 "nbformat_minor": 5
}
